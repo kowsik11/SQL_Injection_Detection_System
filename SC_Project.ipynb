{
  "nbformat": 4,
  "nbformat_minor": 0,
  "metadata": {
    "colab": {
      "provenance": []
    },
    "kernelspec": {
      "name": "python3",
      "display_name": "Python 3"
    },
    "language_info": {
      "name": "python"
    }
  },
  "cells": [
    {
      "cell_type": "markdown",
      "source": [
        "# Importing Libraries"
      ],
      "metadata": {
        "id": "LkUV8SV8OVBk"
      }
    },
    {
      "cell_type": "code",
      "source": [
        "import pandas as pd\n",
        "from sklearn.model_selection import train_test_split\n",
        "from sklearn.feature_extraction.text import TfidfVectorizer\n",
        "from sklearn.linear_model import LogisticRegression\n",
        "from sklearn.ensemble import RandomForestClassifier\n",
        "from sklearn.tree import DecisionTreeClassifier\n",
        "from sklearn.metrics import accuracy_score"
      ],
      "metadata": {
        "id": "yGthMm5zFsoH"
      },
      "execution_count": 17,
      "outputs": []
    },
    {
      "cell_type": "markdown",
      "source": [
        "# Loading the DataSet\n"
      ],
      "metadata": {
        "id": "8ztIUoLsOmNx"
      }
    },
    {
      "cell_type": "code",
      "source": [
        "data = pd.read_csv(\"new1.csv\")\n",
        "\n",
        "data1 = data.copy()\n",
        "\n",
        "data[\"Sentence\"].fillna(\"\", inplace=True)\n",
        "\n",
        "data.dropna(subset=[\"Label\"], inplace=True)\n",
        "\n",
        "data2 = data.copy()"
      ],
      "metadata": {
        "id": "jzsN6yFUOlWl"
      },
      "execution_count": 18,
      "outputs": []
    },
    {
      "cell_type": "markdown",
      "source": [
        "# PreProcessing the Data"
      ],
      "metadata": {
        "id": "AwZciCFXOr_F"
      }
    },
    {
      "cell_type": "code",
      "source": [
        "X = data['Sentence']\n",
        "y = data['Label']"
      ],
      "metadata": {
        "id": "3zdBI3IwOvC9"
      },
      "execution_count": 19,
      "outputs": []
    },
    {
      "cell_type": "markdown",
      "source": [
        "# Spliting the Data"
      ],
      "metadata": {
        "id": "t6AMWAcNO0kP"
      }
    },
    {
      "cell_type": "code",
      "source": [
        "X_train, X_test, y_train, y_test = train_test_split(X, y, test_size=0.3, random_state=42)"
      ],
      "metadata": {
        "id": "cbFwLGv0O35Q"
      },
      "execution_count": 20,
      "outputs": []
    },
    {
      "cell_type": "markdown",
      "source": [
        "# Vectorizing the text data using TF-IDF"
      ],
      "metadata": {
        "id": "zqdTF7U2PEPM"
      }
    },
    {
      "cell_type": "code",
      "source": [
        "vectorizer = TfidfVectorizer()\n",
        "X_train_vectorized = vectorizer.fit_transform(X_train)\n",
        "X_test_vectorized = vectorizer.transform(X_test)"
      ],
      "metadata": {
        "id": "QaDNYQlDPFpW"
      },
      "execution_count": 21,
      "outputs": []
    },
    {
      "cell_type": "markdown",
      "source": [
        "# Building the Algorithms"
      ],
      "metadata": {
        "id": "HyXIehplPP3z"
      }
    },
    {
      "cell_type": "code",
      "source": [
        "# Build Logistic Regression classifier\n",
        "logistic_classifier = LogisticRegression()\n",
        "logistic_classifier.fit(X_train_vectorized, y_train)\n",
        "\n",
        "# Build Random Forest classifier\n",
        "\n",
        "random_forest_classifier = RandomForestClassifier(n_estimators=100, random_state=0, max_depth = 16)\n",
        "random_forest_classifier.fit(X_train_vectorized, y_train)\n",
        "\n",
        "# Build Decision Tree classifier\n",
        "decision_tree_classifier = DecisionTreeClassifier()\n",
        "decision_tree_classifier.fit(X_train_vectorized, y_train)"
      ],
      "metadata": {
        "colab": {
          "base_uri": "https://localhost:8080/",
          "height": 74
        },
        "id": "zOyoEznhPTBU",
        "outputId": "1bf4637d-128c-47aa-fa50-ffaf13e83192"
      },
      "execution_count": null,
      "outputs": [
        {
          "output_type": "execute_result",
          "data": {
            "text/plain": [
              "DecisionTreeClassifier()"
            ],
            "text/html": [
              "<style>#sk-container-id-2 {color: black;background-color: white;}#sk-container-id-2 pre{padding: 0;}#sk-container-id-2 div.sk-toggleable {background-color: white;}#sk-container-id-2 label.sk-toggleable__label {cursor: pointer;display: block;width: 100%;margin-bottom: 0;padding: 0.3em;box-sizing: border-box;text-align: center;}#sk-container-id-2 label.sk-toggleable__label-arrow:before {content: \"▸\";float: left;margin-right: 0.25em;color: #696969;}#sk-container-id-2 label.sk-toggleable__label-arrow:hover:before {color: black;}#sk-container-id-2 div.sk-estimator:hover label.sk-toggleable__label-arrow:before {color: black;}#sk-container-id-2 div.sk-toggleable__content {max-height: 0;max-width: 0;overflow: hidden;text-align: left;background-color: #f0f8ff;}#sk-container-id-2 div.sk-toggleable__content pre {margin: 0.2em;color: black;border-radius: 0.25em;background-color: #f0f8ff;}#sk-container-id-2 input.sk-toggleable__control:checked~div.sk-toggleable__content {max-height: 200px;max-width: 100%;overflow: auto;}#sk-container-id-2 input.sk-toggleable__control:checked~label.sk-toggleable__label-arrow:before {content: \"▾\";}#sk-container-id-2 div.sk-estimator input.sk-toggleable__control:checked~label.sk-toggleable__label {background-color: #d4ebff;}#sk-container-id-2 div.sk-label input.sk-toggleable__control:checked~label.sk-toggleable__label {background-color: #d4ebff;}#sk-container-id-2 input.sk-hidden--visually {border: 0;clip: rect(1px 1px 1px 1px);clip: rect(1px, 1px, 1px, 1px);height: 1px;margin: -1px;overflow: hidden;padding: 0;position: absolute;width: 1px;}#sk-container-id-2 div.sk-estimator {font-family: monospace;background-color: #f0f8ff;border: 1px dotted black;border-radius: 0.25em;box-sizing: border-box;margin-bottom: 0.5em;}#sk-container-id-2 div.sk-estimator:hover {background-color: #d4ebff;}#sk-container-id-2 div.sk-parallel-item::after {content: \"\";width: 100%;border-bottom: 1px solid gray;flex-grow: 1;}#sk-container-id-2 div.sk-label:hover label.sk-toggleable__label {background-color: #d4ebff;}#sk-container-id-2 div.sk-serial::before {content: \"\";position: absolute;border-left: 1px solid gray;box-sizing: border-box;top: 0;bottom: 0;left: 50%;z-index: 0;}#sk-container-id-2 div.sk-serial {display: flex;flex-direction: column;align-items: center;background-color: white;padding-right: 0.2em;padding-left: 0.2em;position: relative;}#sk-container-id-2 div.sk-item {position: relative;z-index: 1;}#sk-container-id-2 div.sk-parallel {display: flex;align-items: stretch;justify-content: center;background-color: white;position: relative;}#sk-container-id-2 div.sk-item::before, #sk-container-id-2 div.sk-parallel-item::before {content: \"\";position: absolute;border-left: 1px solid gray;box-sizing: border-box;top: 0;bottom: 0;left: 50%;z-index: -1;}#sk-container-id-2 div.sk-parallel-item {display: flex;flex-direction: column;z-index: 1;position: relative;background-color: white;}#sk-container-id-2 div.sk-parallel-item:first-child::after {align-self: flex-end;width: 50%;}#sk-container-id-2 div.sk-parallel-item:last-child::after {align-self: flex-start;width: 50%;}#sk-container-id-2 div.sk-parallel-item:only-child::after {width: 0;}#sk-container-id-2 div.sk-dashed-wrapped {border: 1px dashed gray;margin: 0 0.4em 0.5em 0.4em;box-sizing: border-box;padding-bottom: 0.4em;background-color: white;}#sk-container-id-2 div.sk-label label {font-family: monospace;font-weight: bold;display: inline-block;line-height: 1.2em;}#sk-container-id-2 div.sk-label-container {text-align: center;}#sk-container-id-2 div.sk-container {/* jupyter's `normalize.less` sets `[hidden] { display: none; }` but bootstrap.min.css set `[hidden] { display: none !important; }` so we also need the `!important` here to be able to override the default hidden behavior on the sphinx rendered scikit-learn.org. See: https://github.com/scikit-learn/scikit-learn/issues/21755 */display: inline-block !important;position: relative;}#sk-container-id-2 div.sk-text-repr-fallback {display: none;}</style><div id=\"sk-container-id-2\" class=\"sk-top-container\"><div class=\"sk-text-repr-fallback\"><pre>DecisionTreeClassifier()</pre><b>In a Jupyter environment, please rerun this cell to show the HTML representation or trust the notebook. <br />On GitHub, the HTML representation is unable to render, please try loading this page with nbviewer.org.</b></div><div class=\"sk-container\" hidden><div class=\"sk-item\"><div class=\"sk-estimator sk-toggleable\"><input class=\"sk-toggleable__control sk-hidden--visually\" id=\"sk-estimator-id-2\" type=\"checkbox\" checked><label for=\"sk-estimator-id-2\" class=\"sk-toggleable__label sk-toggleable__label-arrow\">DecisionTreeClassifier</label><div class=\"sk-toggleable__content\"><pre>DecisionTreeClassifier()</pre></div></div></div></div></div>"
            ]
          },
          "metadata": {},
          "execution_count": 22
        }
      ]
    },
    {
      "cell_type": "markdown",
      "source": [
        "# Evaluating the Algorithms\n"
      ],
      "metadata": {
        "id": "5POo4TMBPcC6"
      }
    },
    {
      "cell_type": "code",
      "source": [
        "# Evaluate Logistic Regression model on the test set\n",
        "logistic_y_pred = logistic_classifier.predict(X_test_vectorized)\n",
        "logistic_accuracy = accuracy_score(y_test, logistic_y_pred)\n",
        "print(f'The score of Logistic regression accuracy: {logistic_accuracy:.2f}')\n",
        "\n",
        "# Evaluate Random Forest model on the test set\n",
        "random_forest_y_pred = random_forest_classifier.predict(X_test_vectorized)\n",
        "random_forest_accuracy = accuracy_score(y_test, random_forest_y_pred)\n",
        "print(f'The score of Random forest algorithm accuracy :  {random_forest_accuracy:.2f}')\n",
        "\n",
        "# Evaluate Decision Tree model on the test set\n",
        "decision_tree_y_pred = decision_tree_classifier.predict(X_test_vectorized)\n",
        "decision_tree_accuracy = accuracy_score(y_test, decision_tree_y_pred)\n",
        "print(f'The score of Decision Tree accuracy algorithm: {decision_tree_accuracy:.2f}')"
      ],
      "metadata": {
        "id": "xG4mmdJ3PfQY"
      },
      "execution_count": null,
      "outputs": []
    },
    {
      "cell_type": "markdown",
      "source": [
        "# Predicting the O/P using Logistic Regression"
      ],
      "metadata": {
        "id": "Rm6dKR4nQBql"
      }
    },
    {
      "cell_type": "code",
      "source": [
        "# Function to predict SQL injection attempts using Logistic Regression\n",
        "def detect_sql_injection_logistic(query):\n",
        "    # Vectorize the user input\n",
        "    query_vectorized = vectorizer.transform([query])\n",
        "\n",
        "    # Predict using the Logistic Regression classifier\n",
        "    prediction = logistic_classifier.predict(query_vectorized)\n",
        "\n",
        "    # Return the result\n",
        "    if prediction == '0':\n",
        "        return \"Malicious SQL Injection Attempt (Logistic Regression)\"\n",
        "    else:\n",
        "        return \"Benign SQL Query (Logistic Regression)\""
      ],
      "metadata": {
        "id": "d-YNkczYQHA0"
      },
      "execution_count": null,
      "outputs": []
    },
    {
      "cell_type": "markdown",
      "source": [
        "# Predicting the O/P using Random Forest"
      ],
      "metadata": {
        "id": "fA675RnHQO6H"
      }
    },
    {
      "cell_type": "code",
      "source": [
        "# Function to predict SQL injection attempts using Random Forest\n",
        "def detect_sql_injection_random_forest(query):\n",
        "    # Vectorize the user input\n",
        "    query_vectorized = vectorizer.transform([query])\n",
        "\n",
        "    # Predict using the Random Forest classifier\n",
        "    prediction = random_forest_classifier.predict(query_vectorized)\n",
        "\n",
        "    # Return the result\n",
        "    if prediction == '0':\n",
        "        return \"Malicious SQL Injection Attempt (Random Forest)\"\n",
        "    else:\n",
        "        return \"Benign SQL Query (Random Forest)\""
      ],
      "metadata": {
        "id": "YJ7qNIAtQRln"
      },
      "execution_count": null,
      "outputs": []
    },
    {
      "cell_type": "markdown",
      "source": [
        "# Predicting the O/P using Decision Tree"
      ],
      "metadata": {
        "id": "23qOaGG8QTXz"
      }
    },
    {
      "cell_type": "code",
      "source": [
        "# Function to predict SQL injection attempts using Decision Tree\n",
        "def detect_sql_injection_decision_tree(query):\n",
        "    # Vectorize the user input\n",
        "    query_vectorized = vectorizer.transform([query])\n",
        "\n",
        "    # Predict using the Decision Tree classifier\n",
        "    prediction = decision_tree_classifier.predict(query_vectorized)\n",
        "\n",
        "    # Return the result\n",
        "    if prediction == '0':\n",
        "        return \"Malicious SQL Injection Attempt (Decision Tree)\"\n",
        "    else:\n",
        "        return \"Benign SQL Query (Decision Tree)\""
      ],
      "metadata": {
        "id": "yCW12DZoQV2A"
      },
      "execution_count": null,
      "outputs": []
    },
    {
      "cell_type": "markdown",
      "source": [
        "# Taking the I/P from User"
      ],
      "metadata": {
        "id": "W18cbfu-Qk7J"
      }
    },
    {
      "cell_type": "code",
      "source": [
        "# Example user input\n",
        "user_input = input(\"Enter an SQL query: \")\n",
        "\n",
        "# Predict using Logistic Regression\n",
        "logistic_result = detect_sql_injection_logistic(user_input)\n",
        "print(logistic_result)\n",
        "\n",
        "# Predict using Random Forest\n",
        "random_forest_result = detect_sql_injection_random_forest(user_input)\n",
        "print(random_forest_result)\n",
        "\n",
        "# Predict using Decision Tree\n",
        "decision_tree_result = detect_sql_injection_decision_tree(user_input)\n",
        "print(decision_tree_result)\n",
        "\n",
        "#Example : select * from users where id  =  1 +$+ or 1  =  1 -- 1"
      ],
      "metadata": {
        "colab": {
          "base_uri": "https://localhost:8080/"
        },
        "id": "QGvnemZfQqCc",
        "outputId": "ceaaaa04-ab85-46df-90b4-f55c6d956acc"
      },
      "execution_count": 27,
      "outputs": [
        {
          "output_type": "stream",
          "name": "stdout",
          "text": [
            "Enter an SQL query: select * from users where id  =  1 +$+ or 1  =  1 -- 1\n",
            "Benign SQL Query (Logistic Regression)\n",
            "Malicious SQL Injection Attempt (Random Forest)\n",
            "Benign SQL Query (Decision Tree)\n"
          ]
        }
      ]
    },
    {
      "cell_type": "markdown",
      "source": [
        "# Describing the Logistic Regression Algorithm"
      ],
      "metadata": {
        "id": "k7aP1j5GRGK6"
      }
    },
    {
      "cell_type": "code",
      "source": [
        "import pandas as pd\n",
        "from sklearn.metrics import classification_report\n",
        "from sklearn.linear_model import LogisticRegression\n",
        "from sklearn.model_selection import train_test_split\n",
        "from sklearn.feature_extraction.text import TfidfVectorizer\n",
        "\n",
        "# Load your dataset with 'sentence' and 'label' columns\n",
        "data = pd.read_csv(\"new1.csv\")\n",
        "\n",
        "# Handle missing values\n",
        "data[\"Sentence\"].fillna(\"\", inplace=True)\n",
        "data.dropna(subset=[\"Label\"], inplace=True)\n",
        "\n",
        "# Preprocess the data\n",
        "X = data['Sentence']\n",
        "y = data['Label']\n",
        "\n",
        "# Vectorize the text data using TF-IDF (you can try different vectorization methods)\n",
        "vectorizer = TfidfVectorizer()\n",
        "X_vectorized = vectorizer.fit_transform(X)\n",
        "\n",
        "# Split the data into training and testing sets\n",
        "X_train, X_test, y_train, y_test = train_test_split(X_vectorized, y, test_size=0.2, random_state=0)\n",
        "\n",
        "# Create and train the Logistic Regression classifier\n",
        "classifier = LogisticRegression(random_state=0)\n",
        "classifier.fit(X_train, y_train)\n",
        "\n",
        "# Make predictions on the test set\n",
        "y_pred = classifier.predict(X_test)\n",
        "\n",
        "# Print the classification report\n",
        "report = classification_report(y_test, y_pred, target_names=['Sentence', 'Label'])\n",
        "print(report)"
      ],
      "metadata": {
        "colab": {
          "base_uri": "https://localhost:8080/"
        },
        "id": "yWHxOG2yRLR6",
        "outputId": "62ea3d38-92ea-4b69-db2c-1bacf76b1e08"
      },
      "execution_count": 28,
      "outputs": [
        {
          "output_type": "stream",
          "name": "stderr",
          "text": [
            "/usr/local/lib/python3.10/dist-packages/sklearn/linear_model/_logistic.py:458: ConvergenceWarning: lbfgs failed to converge (status=1):\n",
            "STOP: TOTAL NO. of ITERATIONS REACHED LIMIT.\n",
            "\n",
            "Increase the number of iterations (max_iter) or scale the data as shown in:\n",
            "    https://scikit-learn.org/stable/modules/preprocessing.html\n",
            "Please also refer to the documentation for alternative solver options:\n",
            "    https://scikit-learn.org/stable/modules/linear_model.html#logistic-regression\n",
            "  n_iter_i = _check_optimize_result(\n"
          ]
        },
        {
          "output_type": "stream",
          "name": "stdout",
          "text": [
            "              precision    recall  f1-score   support\n",
            "\n",
            "    Sentence       0.95      0.99      0.97      3795\n",
            "       Label       0.99      0.92      0.95      2253\n",
            "\n",
            "    accuracy                           0.97      6048\n",
            "   macro avg       0.97      0.96      0.96      6048\n",
            "weighted avg       0.97      0.97      0.97      6048\n",
            "\n"
          ]
        }
      ]
    },
    {
      "cell_type": "markdown",
      "source": [
        "# Describing the Random Forest Algorithm"
      ],
      "metadata": {
        "id": "0o1t52fnS8cv"
      }
    },
    {
      "cell_type": "code",
      "source": [
        "import pandas as pd\n",
        "from sklearn.metrics import classification_report\n",
        "from sklearn.linear_model import LogisticRegression\n",
        "from sklearn.model_selection import train_test_split\n",
        "from sklearn.feature_extraction.text import TfidfVectorizer\n",
        "\n",
        "# Load your dataset with 'sentence' and 'label' columns\n",
        "data = pd.read_csv(\"new1.csv\")\n",
        "\n",
        "# Handle missing values\n",
        "data[\"Sentence\"].fillna(\"\", inplace=True)\n",
        "data.dropna(subset=[\"Label\"], inplace=True)\n",
        "\n",
        "# Preprocess the data\n",
        "X = data['Sentence']\n",
        "y = data['Label']\n",
        "\n",
        "# Vectorize the text data using TF-IDF (you can try different vectorization methods)\n",
        "vectorizer = TfidfVectorizer()\n",
        "X_vectorized = vectorizer.fit_transform(X)\n",
        "\n",
        "# Split the data into training and testing sets\n",
        "X_train, X_test, y_train, y_test = train_test_split(X_vectorized, y, test_size=0.2, random_state=0)\n",
        "\n",
        "# Create and train the  Random Forest classifier\n",
        "classifier = RandomForestClassifier(random_state=0)\n",
        "classifier.fit(X_train, y_train)\n",
        "\n",
        "# Make predictions on the test set\n",
        "y_pred = classifier.predict(X_test)\n",
        "\n",
        "# Print the classification report\n",
        "report = classification_report(y_test, y_pred, target_names=['Sentence', 'Label'])\n",
        "print(report)"
      ],
      "metadata": {
        "id": "86-wi6OfTBFS"
      },
      "execution_count": null,
      "outputs": []
    },
    {
      "cell_type": "markdown",
      "source": [
        "# Describing the Decision Tree Algorithm"
      ],
      "metadata": {
        "id": "IyMc4ROlTBmW"
      }
    },
    {
      "cell_type": "code",
      "source": [
        "import pandas as pd\n",
        "from sklearn.metrics import classification_report\n",
        "from sklearn.linear_model import LogisticRegression\n",
        "from sklearn.model_selection import train_test_split\n",
        "from sklearn.feature_extraction.text import TfidfVectorizer\n",
        "\n",
        "# Load your dataset with 'sentence' and 'label' columns\n",
        "data = pd.read_csv(\"new1.csv\")\n",
        "\n",
        "# Handle missing values\n",
        "data[\"Sentence\"].fillna(\"\", inplace=True)\n",
        "data.dropna(subset=[\"Label\"], inplace=True)\n",
        "\n",
        "# Preprocess the data\n",
        "X = data['Sentence']\n",
        "y = data['Label']\n",
        "\n",
        "# Vectorize the text data using TF-IDF (you can try different vectorization methods)\n",
        "vectorizer = TfidfVectorizer()\n",
        "X_vectorized = vectorizer.fit_transform(X)\n",
        "\n",
        "# Split the data into training and testing sets\n",
        "X_train, X_test, y_train, y_test = train_test_split(X_vectorized, y, test_size=0.2, random_state=0)\n",
        "\n",
        "# Create and train the Decision Tree classifier\n",
        "classifier = DecisionTreeClassifier(random_state=0)\n",
        "classifier.fit(X_train, y_train)\n",
        "\n",
        "# Make predictions on the test set\n",
        "y_pred = classifier.predict(X_test)\n",
        "\n",
        "# Print the classification report\n",
        "report = classification_report(y_test, y_pred, target_names=['Sentence', 'Label'])\n",
        "print(report)"
      ],
      "metadata": {
        "id": "Wc_jnGYmTFCb"
      },
      "execution_count": null,
      "outputs": []
    },
    {
      "cell_type": "code",
      "source": [
        "# import seaborn as sns\n",
        "# import matplotlib.pyplot as plt\n",
        "# plt.figure(figsize=(6, 4))\n",
        "# ax = sns.countplot(x='Label', data=data2)\n",
        "# # ax.set_xticklabels(['Benign','Malware'])\n",
        "# ax.set_xlabel('Class')\n",
        "# ax.set_ylabel('Count')\n",
        "# plt.show()"
      ],
      "metadata": {
        "id": "8_drTvtoVIlr"
      },
      "execution_count": null,
      "outputs": []
    }
  ]
}